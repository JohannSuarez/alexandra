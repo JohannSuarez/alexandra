{
 "cells": [
  {
   "cell_type": "code",
   "execution_count": 17,
   "id": "38580697-a03f-4ee5-aa73-cf5e5a091573",
   "metadata": {},
   "outputs": [],
   "source": [
    "import glob\n",
    "import pandas as pd\n",
    "from typing import List, Dict"
   ]
  },
  {
   "cell_type": "markdown",
   "id": "c6af784f-1832-43cf-a481-8fb6bc46838c",
   "metadata": {},
   "source": [
    "Use glob to get all timelog files as a list."
   ]
  },
  {
   "cell_type": "code",
   "execution_count": 18,
   "id": "040922f9-daf2-476d-bf7e-b30a86e551d6",
   "metadata": {},
   "outputs": [],
   "source": [
    "timelogs: list = glob.glob(\"./timelog/*.csv\")"
   ]
  },
  {
   "cell_type": "markdown",
   "id": "50904529-f753-4c2c-b0fe-962242a4e117",
   "metadata": {},
   "source": [
    "Make a dictionairy of dates, dataframe pairs."
   ]
  },
  {
   "cell_type": "code",
   "execution_count": 19,
   "id": "63ab0aa5-813c-459c-82f7-40b8269a9f5e",
   "metadata": {},
   "outputs": [],
   "source": [
    "timelogs: Dict[str, pd.DataFrame] = {timelog.split('/')[-1].split('.')[0]: pd.read_csv(timelog) for timelog in timelogs}"
   ]
  },
  {
   "cell_type": "markdown",
   "id": "c4241dc6-bbb1-4554-909a-fc056fae2137",
   "metadata": {},
   "source": [
    "Concatenate into a multi-index dataframe."
   ]
  },
  {
   "cell_type": "code",
   "execution_count": 20,
   "id": "6eda201a-f2fa-4a6a-8871-38f8dac428f9",
   "metadata": {},
   "outputs": [],
   "source": [
    "df = pd.concat(timelogs)"
   ]
  },
  {
   "cell_type": "code",
   "execution_count": 23,
   "id": "40c783c8-9d12-498d-b0cf-1f13535398c6",
   "metadata": {},
   "outputs": [],
   "source": [
    "df.to_csv('outputs/timelogs.csv')"
   ]
  },
  {
   "cell_type": "markdown",
   "id": "d91200b1-75c5-4998-9cd2-f09ec98ba4ce",
   "metadata": {},
   "source": [
    "Count by channel."
   ]
  },
  {
   "cell_type": "code",
   "execution_count": 24,
   "id": "797e966b-9a3f-48bc-a267-d8477e9486b9",
   "metadata": {},
   "outputs": [
    {
     "data": {
      "text/html": [
       "<div>\n",
       "<style scoped>\n",
       "    .dataframe tbody tr th:only-of-type {\n",
       "        vertical-align: middle;\n",
       "    }\n",
       "\n",
       "    .dataframe tbody tr th {\n",
       "        vertical-align: top;\n",
       "    }\n",
       "\n",
       "    .dataframe thead th {\n",
       "        text-align: right;\n",
       "    }\n",
       "</style>\n",
       "<table border=\"1\" class=\"dataframe\">\n",
       "  <thead>\n",
       "    <tr style=\"text-align: right;\">\n",
       "      <th></th>\n",
       "      <th>Time</th>\n",
       "      <th>Username</th>\n",
       "      <th>UserID</th>\n",
       "    </tr>\n",
       "    <tr>\n",
       "      <th>Voice Channel</th>\n",
       "      <th></th>\n",
       "      <th></th>\n",
       "      <th></th>\n",
       "    </tr>\n",
       "  </thead>\n",
       "  <tbody>\n",
       "    <tr>\n",
       "      <th>Algo Trading</th>\n",
       "      <td>3973</td>\n",
       "      <td>3973</td>\n",
       "      <td>3973</td>\n",
       "    </tr>\n",
       "    <tr>\n",
       "      <th>Biz</th>\n",
       "      <td>180</td>\n",
       "      <td>180</td>\n",
       "      <td>180</td>\n",
       "    </tr>\n",
       "    <tr>\n",
       "      <th>Development</th>\n",
       "      <td>1586</td>\n",
       "      <td>1586</td>\n",
       "      <td>1586</td>\n",
       "    </tr>\n",
       "    <tr>\n",
       "      <th>FT Smart Village</th>\n",
       "      <td>1682</td>\n",
       "      <td>1682</td>\n",
       "      <td>1682</td>\n",
       "    </tr>\n",
       "    <tr>\n",
       "      <th>Front End</th>\n",
       "      <td>174</td>\n",
       "      <td>174</td>\n",
       "      <td>174</td>\n",
       "    </tr>\n",
       "    <tr>\n",
       "      <th>General Comms</th>\n",
       "      <td>3258</td>\n",
       "      <td>3258</td>\n",
       "      <td>3258</td>\n",
       "    </tr>\n",
       "    <tr>\n",
       "      <th>LTF</th>\n",
       "      <td>1669</td>\n",
       "      <td>1669</td>\n",
       "      <td>1669</td>\n",
       "    </tr>\n",
       "    <tr>\n",
       "      <th>Linux Gaming</th>\n",
       "      <td>4</td>\n",
       "      <td>4</td>\n",
       "      <td>4</td>\n",
       "    </tr>\n",
       "    <tr>\n",
       "      <th>NowWhere</th>\n",
       "      <td>4381</td>\n",
       "      <td>4381</td>\n",
       "      <td>4381</td>\n",
       "    </tr>\n",
       "    <tr>\n",
       "      <th>Panther</th>\n",
       "      <td>977</td>\n",
       "      <td>977</td>\n",
       "      <td>977</td>\n",
       "    </tr>\n",
       "    <tr>\n",
       "      <th>RealEx</th>\n",
       "      <td>4156</td>\n",
       "      <td>4156</td>\n",
       "      <td>4156</td>\n",
       "    </tr>\n",
       "    <tr>\n",
       "      <th>Solarpunk</th>\n",
       "      <td>1</td>\n",
       "      <td>1</td>\n",
       "      <td>1</td>\n",
       "    </tr>\n",
       "    <tr>\n",
       "      <th>Token Engineering</th>\n",
       "      <td>6623</td>\n",
       "      <td>6623</td>\n",
       "      <td>6623</td>\n",
       "    </tr>\n",
       "    <tr>\n",
       "      <th>panther</th>\n",
       "      <td>736</td>\n",
       "      <td>736</td>\n",
       "      <td>736</td>\n",
       "    </tr>\n",
       "  </tbody>\n",
       "</table>\n",
       "</div>"
      ],
      "text/plain": [
       "                   Time  Username  UserID\n",
       "Voice Channel                            \n",
       "Algo Trading       3973      3973    3973\n",
       "Biz                 180       180     180\n",
       "Development        1586      1586    1586\n",
       "FT Smart Village   1682      1682    1682\n",
       "Front End           174       174     174\n",
       "General Comms      3258      3258    3258\n",
       "LTF                1669      1669    1669\n",
       "Linux Gaming          4         4       4\n",
       "NowWhere           4381      4381    4381\n",
       "Panther             977       977     977\n",
       "RealEx             4156      4156    4156\n",
       "Solarpunk             1         1       1\n",
       "Token Engineering  6623      6623    6623\n",
       "panther             736       736     736"
      ]
     },
     "execution_count": 24,
     "metadata": {},
     "output_type": "execute_result"
    }
   ],
   "source": [
    "df.groupby('Voice Channel').count()"
   ]
  },
  {
   "cell_type": "markdown",
   "id": "3b69bb97-565e-4fd1-86b6-54a01a87c6f0",
   "metadata": {},
   "source": [
    "Group by month."
   ]
  },
  {
   "cell_type": "markdown",
   "id": "338267f9-7c28-4b59-9175-27784e719885",
   "metadata": {},
   "source": [
    "Group by person."
   ]
  },
  {
   "cell_type": "markdown",
   "id": "8d8f357e-5229-4034-b106-b8baa8e5d342",
   "metadata": {},
   "source": [
    "Use holoviews to make a holomap with dropdown menus of the above."
   ]
  },
  {
   "cell_type": "code",
   "execution_count": null,
   "id": "ac9b116d-1a7b-4da9-beda-9b805d8b6c22",
   "metadata": {},
   "outputs": [],
   "source": []
  }
 ],
 "metadata": {
  "kernelspec": {
   "display_name": "Python 3",
   "language": "python",
   "name": "python3"
  },
  "language_info": {
   "codemirror_mode": {
    "name": "ipython",
    "version": 3
   },
   "file_extension": ".py",
   "mimetype": "text/x-python",
   "name": "python",
   "nbconvert_exporter": "python",
   "pygments_lexer": "ipython3",
   "version": "3.8.8"
  }
 },
 "nbformat": 4,
 "nbformat_minor": 5
}
